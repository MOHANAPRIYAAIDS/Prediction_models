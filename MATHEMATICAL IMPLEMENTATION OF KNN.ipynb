{
 "cells": [
  {
   "cell_type": "code",
   "execution_count": 1,
   "id": "67f1b678",
   "metadata": {},
   "outputs": [],
   "source": [
    "from math import sqrt\n",
    "import pandas as pd\n",
    "import numpy as np\n",
    "import matplotlib.pyplot as plt\n",
    "import warnings\n",
    "from collections import Counter "
   ]
  },
  {
   "cell_type": "code",
   "execution_count": 2,
   "id": "77b03749",
   "metadata": {},
   "outputs": [],
   "source": [
    "p1=[1,3]\n",
    "p2=[2,3]"
   ]
  },
  {
   "cell_type": "code",
   "execution_count": 3,
   "id": "790f192c",
   "metadata": {},
   "outputs": [],
   "source": [
    "#sqrt((x1-x2)**2 +((y1-y2)**2)\n",
    "eucledian=sqrt((p1[0] - p2[0])**2 + (p1[1]-p2[1])**2)"
   ]
  },
  {
   "cell_type": "code",
   "execution_count": 4,
   "id": "bd1600a4",
   "metadata": {},
   "outputs": [
    {
     "name": "stdout",
     "output_type": "stream",
     "text": [
      "1.0\n"
     ]
    }
   ],
   "source": [
    "print(eucledian)"
   ]
  },
  {
   "cell_type": "code",
   "execution_count": 5,
   "id": "2f251820",
   "metadata": {},
   "outputs": [],
   "source": [
    "dataset = {'k': [[1, 2], [2, 3], [3, 1]], 'r': [[4, 5], [8, 6], [9, 8]]}\n",
    "\n",
    "new_f=[9,3]\n"
   ]
  },
  {
   "cell_type": "code",
   "execution_count": 6,
   "id": "6cb95ad4",
   "metadata": {},
   "outputs": [
    {
     "data": {
      "image/png": "[encoded data removed]",
      "text/plain": [
       "<Figure size 640x480 with 1 Axes>"
      ]
     },
     "metadata": {},
     "output_type": "display_data"
    }
   ],
   "source": [
    "for i in dataset:\n",
    "    for li in dataset[i]:\n",
    "        plt.scatter(li[0],li[1],s=100,color=i)\n",
    "        \n",
    "plt.show()"
   ]
  },
  {
   "cell_type": "code",
   "execution_count": 7,
   "id": "e184032e",
   "metadata": {},
   "outputs": [],
   "source": [
    "def k_nn(data,predict,k=3):\n",
    "    if len(data)>k:\n",
    "        warnings.warn('k is set val which is less that the group!')\n",
    "    dis=[]\n",
    "    for group in data:\n",
    "        for features in data[group]:\n",
    "            eucled=np.linalg.norm(np.array(features)-np.array(predict))\n",
    "            dis.append([eucled,group])\n",
    "            \n",
    "    votes=[i[1] for i in sorted(dis)[:k]]\n",
    "    print(Counter(votes).most_common(1))\n",
    "    vote_result=Counter(votes).most_common(1)[0][0]\n",
    "        \n",
    "    return vote_result"
   ]
  },
  {
   "cell_type": "code",
   "execution_count": 8,
   "id": "2a302953",
   "metadata": {},
   "outputs": [
    {
     "name": "stdout",
     "output_type": "stream",
     "text": [
      "[('r', 3)]\n"
     ]
    }
   ],
   "source": [
    "result=k_nn(dataset,new_f,k=3)"
   ]
  },
  {
   "cell_type": "code",
   "execution_count": 9,
   "id": "95a8f6d7",
   "metadata": {},
   "outputs": [
    {
     "data": {
      "image/png": "[encoded data removed]",
      "text/plain": [
       "<Figure size 640x480 with 1 Axes>"
      ]
     },
     "metadata": {},
     "output_type": "display_data"
    }
   ],
   "source": [
    "for i in dataset:\n",
    "    for li in dataset[i]:\n",
    "        plt.scatter(li[0],li[1],s=100,color=i)\n",
    "plt.scatter(new_f[0],new_f[1],color = result)\n",
    "        \n",
    "plt.show()"
   ]
  },
  {
   "cell_type": "code",
   "execution_count": 10,
   "id": "f4fd2ce0",
   "metadata": {},
   "outputs": [],
   "source": [
    "df=pd.read_csv(r\"C:\\Users\\Mohanapriya\\Downloads\\Machine Learning\\Classification\\breast-cancer-wisconsin.csv\")"
   ]
  },
  {
   "cell_type": "code",
   "execution_count": 11,
   "id": "38c3b127",
   "metadata": {},
   "outputs": [],
   "source": [
    "df.replace(\"?\",-99999,inplace=True)"
   ]
  },
  {
   "cell_type": "code",
   "execution_count": 12,
   "id": "24e8f6a0",
   "metadata": {},
   "outputs": [
    {
     "name": "stderr",
     "output_type": "stream",
     "text": [
      "C:\\Users\\Mohanapriya\\AppData\\Local\\Temp\\ipykernel_5260\\2909237058.py:1: FutureWarning: In a future version of pandas all arguments of DataFrame.drop except for the argument 'labels' will be keyword-only.\n",
      "  df.drop(['id'],1,inplace=True)\n"
     ]
    }
   ],
   "source": [
    "df.drop(['id'],1,inplace=True)"
   ]
  },
  {
   "cell_type": "code",
   "execution_count": 13,
   "id": "5ee29478",
   "metadata": {},
   "outputs": [
    {
     "name": "stdout",
     "output_type": "stream",
     "text": [
      "   clump_thickness  unif_cell_size  unif_cell_shape  marg_adhesion  \\\n",
      "0                5               1                1              1   \n",
      "1                5               4                4              5   \n",
      "2                3               1                1              1   \n",
      "3                6               8                8              1   \n",
      "4                4               1                1              3   \n",
      "\n",
      "   single_epith_cell_size bare_nuceli  bland_chrom  norm_nucleoli  mitoses  \\\n",
      "0                       2           1            3              1        1   \n",
      "1                       7          10            3              2        1   \n",
      "2                       2           2            3              1        1   \n",
      "3                       3           4            3              7        1   \n",
      "4                       2           1            3              1        1   \n",
      "\n",
      "   class  \n",
      "0      2  \n",
      "1      2  \n",
      "2      2  \n",
      "3      2  \n",
      "4      2  \n"
     ]
    }
   ],
   "source": [
    "print(df[:5])"
   ]
  },
  {
   "cell_type": "code",
   "execution_count": 14,
   "id": "98bfb23f",
   "metadata": {},
   "outputs": [],
   "source": [
    "import random"
   ]
  },
  {
   "cell_type": "code",
   "execution_count": 15,
   "id": "f5540bf7",
   "metadata": {},
   "outputs": [],
   "source": [
    "f_d=df.astype(float).values.tolist()"
   ]
  },
  {
   "cell_type": "code",
   "execution_count": 16,
   "id": "f5a3c1d8",
   "metadata": {},
   "outputs": [],
   "source": [
    "random.shuffle(f_d)"
   ]
  },
  {
   "cell_type": "code",
   "execution_count": 17,
   "id": "ff30e0d2",
   "metadata": {},
   "outputs": [
    {
     "name": "stdout",
     "output_type": "stream",
     "text": [
      "[[1.0, 1.0, 1.0, 1.0, 2.0, 1.0, 3.0, 2.0, 1.0, 2.0], [2.0, 1.0, 1.0, 1.0, 2.0, 1.0, 2.0, 1.0, 1.0, 2.0], [2.0, 1.0, 1.0, 1.0, 2.0, 1.0, 3.0, 1.0, 1.0, 2.0], [1.0, 1.0, 3.0, 1.0, 2.0, 1.0, 1.0, 1.0, 1.0, 2.0], [8.0, 10.0, 3.0, 2.0, 6.0, 4.0, 3.0, 10.0, 1.0, 4.0]]\n"
     ]
    }
   ],
   "source": [
    "print(f_d[:5])"
   ]
  },
  {
   "cell_type": "code",
   "execution_count": 18,
   "id": "222b6cba",
   "metadata": {},
   "outputs": [],
   "source": [
    "test_size=0.2\n",
    "train_set={2:[],4:[]}\n",
    "test_set={2:[],4:[]}\n",
    "train_data=f_d[:-int(test_size*len(f_d))]\n",
    "test_data=f_d[-int(test_size*len(f_d)):]\n"
   ]
  },
  {
   "cell_type": "code",
   "execution_count": 19,
   "id": "92c3570e",
   "metadata": {},
   "outputs": [],
   "source": [
    "for i in train_data:\n",
    "    train_set[i[-1]].append(i[:-1])"
   ]
  },
  {
   "cell_type": "code",
   "execution_count": 20,
   "id": "54bebd35",
   "metadata": {},
   "outputs": [],
   "source": [
    "for i in test_data:\n",
    "    test_set[i[-1]].append(i[:-1])"
   ]
  },
  {
   "cell_type": "code",
   "execution_count": 21,
   "id": "0128f960",
   "metadata": {},
   "outputs": [],
   "source": [
    "cor = 0\n",
    "tot = 0"
   ]
  },
  {
   "cell_type": "code",
   "execution_count": 51,
   "id": "f6782761",
   "metadata": {},
   "outputs": [
    {
     "name": "stdout",
     "output_type": "stream",
     "text": [
      "[(2, 76)]\n",
      "[(2, 76)]\n",
      "[(2, 76)]\n",
      "[(2, 76)]\n",
      "[(2, 76)]\n",
      "[(2, 76)]\n",
      "[(2, 63)]\n",
      "[(2, 76)]\n",
      "[(2, 76)]\n",
      "[(2, 76)]\n",
      "[(2, 76)]\n",
      "[(2, 76)]\n",
      "[(2, 76)]\n",
      "[(2, 76)]\n",
      "[(4, 64)]\n",
      "[(2, 76)]\n",
      "[(2, 74)]\n",
      "[(2, 76)]\n",
      "[(2, 76)]\n",
      "[(2, 76)]\n",
      "[(2, 76)]\n",
      "[(2, 76)]\n",
      "[(2, 76)]\n",
      "[(2, 74)]\n",
      "[(2, 76)]\n",
      "[(2, 76)]\n",
      "[(2, 76)]\n",
      "[(2, 76)]\n",
      "[(2, 76)]\n",
      "[(2, 76)]\n",
      "[(2, 76)]\n",
      "[(2, 76)]\n",
      "[(2, 76)]\n",
      "[(2, 76)]\n",
      "[(2, 76)]\n",
      "[(2, 76)]\n",
      "[(2, 76)]\n",
      "[(2, 76)]\n",
      "[(2, 76)]\n",
      "[(2, 76)]\n",
      "[(2, 76)]\n",
      "[(2, 76)]\n",
      "[(2, 76)]\n",
      "[(2, 76)]\n",
      "[(2, 76)]\n",
      "[(2, 68)]\n",
      "[(2, 76)]\n",
      "[(2, 76)]\n",
      "[(2, 76)]\n",
      "[(2, 76)]\n",
      "[(2, 76)]\n",
      "[(2, 76)]\n",
      "[(2, 76)]\n",
      "[(2, 76)]\n",
      "[(2, 76)]\n",
      "[(2, 76)]\n",
      "[(2, 76)]\n",
      "[(2, 76)]\n",
      "[(2, 74)]\n",
      "[(2, 75)]\n",
      "[(2, 76)]\n",
      "[(2, 76)]\n",
      "[(2, 76)]\n",
      "[(2, 76)]\n",
      "[(2, 76)]\n",
      "[(2, 76)]\n",
      "[(2, 76)]\n",
      "[(2, 76)]\n",
      "[(2, 76)]\n",
      "[(2, 76)]\n",
      "[(2, 76)]\n",
      "[(2, 76)]\n",
      "[(2, 76)]\n",
      "[(2, 76)]\n",
      "[(2, 76)]\n",
      "[(2, 76)]\n",
      "[(2, 76)]\n",
      "[(2, 76)]\n",
      "[(2, 76)]\n",
      "[(2, 76)]\n",
      "[(2, 76)]\n",
      "[(2, 76)]\n",
      "[(2, 70)]\n",
      "[(2, 76)]\n",
      "[(2, 76)]\n",
      "[(2, 76)]\n",
      "[(2, 76)]\n",
      "[(2, 76)]\n",
      "[(2, 76)]\n",
      "[(4, 67)]\n",
      "[(4, 75)]\n",
      "[(4, 71)]\n",
      "[(4, 75)]\n",
      "[(4, 54)]\n",
      "[(4, 75)]\n",
      "[(4, 45)]\n",
      "[(4, 68)]\n",
      "[(4, 74)]\n",
      "[(4, 75)]\n",
      "[(4, 53)]\n",
      "[(2, 50)]\n",
      "[(4, 74)]\n",
      "[(4, 71)]\n",
      "[(2, 46)]\n",
      "[(4, 70)]\n",
      "[(4, 70)]\n",
      "[(4, 75)]\n",
      "[(4, 75)]\n",
      "[(4, 73)]\n",
      "[(4, 75)]\n",
      "[(2, 47)]\n",
      "[(4, 76)]\n",
      "[(4, 76)]\n",
      "[(4, 74)]\n",
      "[(4, 73)]\n",
      "[(4, 67)]\n",
      "[(4, 69)]\n",
      "[(4, 76)]\n",
      "[(2, 67)]\n",
      "[(4, 76)]\n",
      "[(4, 70)]\n",
      "[(4, 74)]\n",
      "[(4, 72)]\n",
      "[(4, 71)]\n",
      "[(4, 69)]\n",
      "[(4, 73)]\n",
      "[(4, 72)]\n",
      "[(4, 75)]\n",
      "[(4, 73)]\n",
      "[(4, 61)]\n",
      "[(4, 76)]\n",
      "[(4, 75)]\n",
      "[(4, 71)]\n",
      "[(4, 71)]\n",
      "[(4, 63)]\n",
      "[(4, 73)]\n",
      "[(4, 75)]\n",
      "[(4, 75)]\n",
      "[(4, 71)]\n",
      "Accuracy 0.9730215827338129\n"
     ]
    }
   ],
   "source": [
    "for group in test_set:\n",
    "    for data in test_set[group]:\n",
    "        v=k_nn(train_set,data,k=76)\n",
    "        if group==v:\n",
    "            cor+=1\n",
    "        tot+=1\n",
    "print(\"Accuracy\" ,cor/tot)"
   ]
  },
  {
   "cell_type": "code",
   "execution_count": 52,
   "id": "2cc8417f",
   "metadata": {},
   "outputs": [],
   "source": [
    "from sklearn.model_selection import train_test_split\n",
    "from sklearn import neighbors,svm\n"
   ]
  },
  {
   "cell_type": "code",
   "execution_count": 35,
   "id": "89ac6839",
   "metadata": {},
   "outputs": [
    {
     "name": "stderr",
     "output_type": "stream",
     "text": [
      "C:\\Users\\Mohanapriya\\AppData\\Local\\Temp\\ipykernel_5260\\2331337597.py:1: FutureWarning: In a future version of pandas all arguments of DataFrame.drop except for the argument 'labels' will be keyword-only.\n",
      "  x=np.array(df.drop(['class'],1))\n"
     ]
    }
   ],
   "source": [
    "x=np.array(df.drop(['class'],1))\n",
    "y=np.array(df['class'])"
   ]
  },
  {
   "cell_type": "code",
   "execution_count": 36,
   "id": "6a723d7f",
   "metadata": {},
   "outputs": [],
   "source": [
    "xtrain,xtest,ytrain,ytest=train_test_split(x,y,test_size=0.2)"
   ]
  },
  {
   "cell_type": "code",
   "execution_count": 54,
   "id": "6e755692",
   "metadata": {},
   "outputs": [],
   "source": [
    "sv=svm.SVC()\n",
    "#knn.fit(xtrain,ytrain)\n",
    "#knn=neighbors.KNeighborsClassifier()"
   ]
  },
  {
   "cell_type": "code",
   "execution_count": 55,
   "id": "b446cb50",
   "metadata": {},
   "outputs": [
    {
     "data": {
      "text/html": [
       "<style>#sk-container-id-2 {color: black;}#sk-container-id-2 pre{padding: 0;}#sk-container-id-2 div.sk-toggleable {background-color: white;}#sk-container-id-2 label.sk-toggleable__label {cursor: pointer;display: block;width: 100%;margin-bottom: 0;padding: 0.3em;box-sizing: border-box;text-align: center;}#sk-container-id-2 label.sk-toggleable__label-arrow:before {content: \"▸\";float: left;margin-right: 0.25em;color: #696969;}#sk-container-id-2 label.sk-toggleable__label-arrow:hover:before {color: black;}#sk-container-id-2 div.sk-estimator:hover label.sk-toggleable__label-arrow:before {color: black;}#sk-container-id-2 div.sk-toggleable__content {max-height: 0;max-width: 0;overflow: hidden;text-align: left;background-color: #f0f8ff;}#sk-container-id-2 div.sk-toggleable__content pre {margin: 0.2em;color: black;border-radius: 0.25em;background-color: #f0f8ff;}#sk-container-id-2 input.sk-toggleable__control:checked~div.sk-toggleable__content {max-height: 200px;max-width: 100%;overflow: auto;}#sk-container-id-2 input.sk-toggleable__control:checked~label.sk-toggleable__label-arrow:before {content: \"▾\";}#sk-container-id-2 div.sk-estimator input.sk-toggleable__control:checked~label.sk-toggleable__label {background-color: #d4ebff;}#sk-container-id-2 div.sk-label input.sk-toggleable__control:checked~label.sk-toggleable__label {background-color: #d4ebff;}#sk-container-id-2 input.sk-hidden--visually {border: 0;clip: rect(1px 1px 1px 1px);clip: rect(1px, 1px, 1px, 1px);height: 1px;margin: -1px;overflow: hidden;padding: 0;position: absolute;width: 1px;}#sk-container-id-2 div.sk-estimator {font-family: monospace;background-color: #f0f8ff;border: 1px dotted black;border-radius: 0.25em;box-sizing: border-box;margin-bottom: 0.5em;}#sk-container-id-2 div.sk-estimator:hover {background-color: #d4ebff;}#sk-container-id-2 div.sk-parallel-item::after {content: \"\";width: 100%;border-bottom: 1px solid gray;flex-grow: 1;}#sk-container-id-2 div.sk-label:hover label.sk-toggleable__label {background-color: #d4ebff;}#sk-container-id-2 div.sk-serial::before {content: \"\";position: absolute;border-left: 1px solid gray;box-sizing: border-box;top: 0;bottom: 0;left: 50%;z-index: 0;}#sk-container-id-2 div.sk-serial {display: flex;flex-direction: column;align-items: center;background-color: white;padding-right: 0.2em;padding-left: 0.2em;position: relative;}#sk-container-id-2 div.sk-item {position: relative;z-index: 1;}#sk-container-id-2 div.sk-parallel {display: flex;align-items: stretch;justify-content: center;background-color: white;position: relative;}#sk-container-id-2 div.sk-item::before, #sk-container-id-2 div.sk-parallel-item::before {content: \"\";position: absolute;border-left: 1px solid gray;box-sizing: border-box;top: 0;bottom: 0;left: 50%;z-index: -1;}#sk-container-id-2 div.sk-parallel-item {display: flex;flex-direction: column;z-index: 1;position: relative;background-color: white;}#sk-container-id-2 div.sk-parallel-item:first-child::after {align-self: flex-end;width: 50%;}#sk-container-id-2 div.sk-parallel-item:last-child::after {align-self: flex-start;width: 50%;}#sk-container-id-2 div.sk-parallel-item:only-child::after {width: 0;}#sk-container-id-2 div.sk-dashed-wrapped {border: 1px dashed gray;margin: 0 0.4em 0.5em 0.4em;box-sizing: border-box;padding-bottom: 0.4em;background-color: white;}#sk-container-id-2 div.sk-label label {font-family: monospace;font-weight: bold;display: inline-block;line-height: 1.2em;}#sk-container-id-2 div.sk-label-container {text-align: center;}#sk-container-id-2 div.sk-container {/* jupyter's `normalize.less` sets `[hidden] { display: none; }` but bootstrap.min.css set `[hidden] { display: none !important; }` so we also need the `!important` here to be able to override the default hidden behavior on the sphinx rendered scikit-learn.org. See: https://github.com/scikit-learn/scikit-learn/issues/21755 */display: inline-block !important;position: relative;}#sk-container-id-2 div.sk-text-repr-fallback {display: none;}</style><div id=\"sk-container-id-2\" class=\"sk-top-container\"><div class=\"sk-text-repr-fallback\"><pre>SVC()</pre><b>In a Jupyter environment, please rerun this cell to show the HTML representation or trust the notebook. <br />On GitHub, the HTML representation is unable to render, please try loading this page with nbviewer.org.</b></div><div class=\"sk-container\" hidden><div class=\"sk-item\"><div class=\"sk-estimator sk-toggleable\"><input class=\"sk-toggleable__control sk-hidden--visually\" id=\"sk-estimator-id-2\" type=\"checkbox\" checked><label for=\"sk-estimator-id-2\" class=\"sk-toggleable__label sk-toggleable__label-arrow\">SVC</label><div class=\"sk-toggleable__content\"><pre>SVC()</pre></div></div></div></div></div>"
      ],
      "text/plain": [
       "SVC()"
      ]
     },
     "execution_count": 55,
     "metadata": {},
     "output_type": "execute_result"
    }
   ],
   "source": [
    "#knn.fit(xtrain,ytrain)\n",
    "sv.fit(xtrain,ytrain)"
   ]
  },
  {
   "cell_type": "code",
   "execution_count": 56,
   "id": "53e93c27",
   "metadata": {},
   "outputs": [],
   "source": [
    "ypred=knn.predict(xtest)"
   ]
  },
  {
   "cell_type": "code",
   "execution_count": 57,
   "id": "a58668c5",
   "metadata": {},
   "outputs": [],
   "source": [
    "from sklearn.metrics import accuracy_score"
   ]
  },
  {
   "cell_type": "code",
   "execution_count": 58,
   "id": "4530d887",
   "metadata": {},
   "outputs": [
    {
     "name": "stdout",
     "output_type": "stream",
     "text": [
      "accuracy:  0.9785714285714285\n"
     ]
    }
   ],
   "source": [
    "print(\"accuracy: \",accuracy_score(ypred,ytest))"
   ]
  },
  {
   "cell_type": "code",
   "execution_count": null,
   "id": "585b4dd8",
   "metadata": {},
   "outputs": [],
   "source": []
  }
 ],
 "metadata": {
  "kernelspec": {
   "display_name": "Python 3 (ipykernel)",
   "language": "python",
   "name": "python3"
  },
  "language_info": {
   "codemirror_mode": {
    "name": "ipython",
    "version": 3
   },
   "file_extension": ".py",
   "mimetype": "text/x-python",
   "name": "python",
   "nbconvert_exporter": "python",
   "pygments_lexer": "ipython3",
   "version": "3.11.4"
  }
 },
 "nbformat": 4,
 "nbformat_minor": 5
}
