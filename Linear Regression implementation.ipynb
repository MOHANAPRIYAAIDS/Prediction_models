{
 "cells": [
  {
   "cell_type": "code",
   "execution_count": 22,
   "id": "acdea8c9",
   "metadata": {},
   "outputs": [],
   "source": [
    "from matplotlib import style\n",
    "import random"
   ]
  },
  {
   "cell_type": "code",
   "execution_count": 1,
   "id": "0202dde7",
   "metadata": {},
   "outputs": [],
   "source": [
    "from statistics import mean\n",
    "import numpy as np\n",
    "import matplotlib.pyplot as plt"
   ]
  },
  {
   "cell_type": "code",
   "execution_count": 2,
   "id": "fc8882ff",
   "metadata": {},
   "outputs": [],
   "source": [
    "#xn=np.array([2,6,4,5,8,7],dtype=np.float64)\n",
    "#n=np.array([2,3,5,6,9,8],dtype=np.float64)"
   ]
  },
  {
   "cell_type": "code",
   "execution_count": 30,
   "id": "ead19d5a",
   "metadata": {},
   "outputs": [],
   "source": [
    "def create_dataset(hm,variance,step=2,correlation=False):\n",
    "    val=1\n",
    "    ys=[]\n",
    "    for i in range(hm):\n",
    "        y=val+random.randrange(-variance,variance)\n",
    "        ys.append(y)\n",
    "        if correlation and correlation =='pos':\n",
    "            val+=step\n",
    "        elif correlation and correlation =='neg':\n",
    "            var-=step\n",
    "    xs=[i for i in range(len(ys))]\n",
    "            \n",
    "    return np.array(xs,dtype=np.float64),np.array(ys,dtype=np.float64)\n"
   ]
  },
  {
   "cell_type": "code",
   "execution_count": 54,
   "id": "e3fd21fa",
   "metadata": {},
   "outputs": [],
   "source": [
    "xn,yn=create_dataset(40,80,2,correlation='pos')"
   ]
  },
  {
   "cell_type": "code",
   "execution_count": 55,
   "id": "5d6a1af4",
   "metadata": {},
   "outputs": [],
   "source": [
    "def bestfit(xn,yn):\n",
    "    m=((mean(xn)*mean(yn)) - mean(xn*yn)) /  ((mean(xn)*mean(xn)) - mean(xn**2))\n",
    "    b=mean(xn) - m*mean(yn)  \n",
    "    return m,b"
   ]
  },
  {
   "cell_type": "code",
   "execution_count": 56,
   "id": "bed92913",
   "metadata": {},
   "outputs": [],
   "source": [
    "m,b=bestfit(xn,yn)"
   ]
  },
  {
   "cell_type": "code",
   "execution_count": 57,
   "id": "235816c2",
   "metadata": {},
   "outputs": [
    {
     "name": "stdout",
     "output_type": "stream",
     "text": [
      "2.7868667917448406\n"
     ]
    }
   ],
   "source": [
    "print(m)"
   ]
  },
  {
   "cell_type": "code",
   "execution_count": 58,
   "id": "6e7b400b",
   "metadata": {},
   "outputs": [],
   "source": [
    "regression_line= [(m*x)+b for x in xn]"
   ]
  },
  {
   "cell_type": "code",
   "execution_count": 59,
   "id": "c323827c",
   "metadata": {},
   "outputs": [],
   "source": [
    "predict_x=8\n",
    "predict_y=(m*predict_x)+b"
   ]
  },
  {
   "cell_type": "code",
   "execution_count": 60,
   "id": "36add4b6",
   "metadata": {},
   "outputs": [],
   "source": [
    "def squared_error(yn_o,yn_line):\n",
    "    return sum((yn_line - yn_o)**2)"
   ]
  },
  {
   "cell_type": "code",
   "execution_count": 61,
   "id": "fcdf3671",
   "metadata": {},
   "outputs": [],
   "source": [
    "def coeff(yn_o,yn_line):\n",
    "    y_mean_line=[mean(yn_o) for y in yn_o]\n",
    "    se_er_regr=squared_error(yn,yn_line)\n",
    "    se_error_mean=squared_error(yn,y_mean_line)\n",
    "    return 1 - (se_er_regr / se_error_mean)"
   ]
  },
  {
   "cell_type": "code",
   "execution_count": 62,
   "id": "0ba23e19",
   "metadata": {},
   "outputs": [],
   "source": [
    "r_squared = coeff(yn,regression_line)"
   ]
  },
  {
   "cell_type": "code",
   "execution_count": 63,
   "id": "c15d2d37",
   "metadata": {},
   "outputs": [
    {
     "name": "stdout",
     "output_type": "stream",
     "text": [
      "0.28794383301701354\n"
     ]
    }
   ],
   "source": [
    "print(r_squared)"
   ]
  },
  {
   "cell_type": "code",
   "execution_count": 64,
   "id": "cde6979f",
   "metadata": {
    "scrolled": false
   },
   "outputs": [
    {
     "data": {
      "image/png": "[encoded data removed]",
      "text/plain": [
       "<Figure size 640x480 with 1 Axes>"
      ]
     },
     "metadata": {},
     "output_type": "display_data"
    }
   ],
   "source": [
    "plt.scatter(xn,yn)\n",
    "plt.plot(xn,regression_line)\n",
    "plt.scatter(predict_x,predict_y,s=100,color='g')\n",
    "plt.show()"
   ]
  },
  {
   "cell_type": "code",
   "execution_count": null,
   "id": "55d7e5c1",
   "metadata": {},
   "outputs": [],
   "source": []
  }
 ],
 "metadata": {
  "kernelspec": {
   "display_name": "Python 3 (ipykernel)",
   "language": "python",
   "name": "python3"
  },
  "language_info": {
   "codemirror_mode": {
    "name": "ipython",
    "version": 3
   },
   "file_extension": ".py",
   "mimetype": "text/x-python",
   "name": "python",
   "nbconvert_exporter": "python",
   "pygments_lexer": "ipython3",
   "version": "3.11.4"
  }
 },
 "nbformat": 4,
 "nbformat_minor": 5
}
